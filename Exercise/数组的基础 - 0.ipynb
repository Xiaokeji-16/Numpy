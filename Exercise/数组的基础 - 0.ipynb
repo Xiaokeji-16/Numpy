{
 "cells": [
  {
   "cell_type": "code",
   "execution_count": null,
   "metadata": {},
   "outputs": [],
   "source": []
  },
  {
   "cell_type": "code",
   "execution_count": null,
   "metadata": {},
   "outputs": [],
   "source": [
    "# 数组基础\n",
    "# \"np\" - import numpy as np\n",
    "\n",
    "# 1.1\n",
    "# Numpy 数组简单分为 整数型数组 和 浮点型数组\n"
   ]
  },
  {
   "cell_type": "code",
   "execution_count": 1,
   "metadata": {},
   "outputs": [
    {
     "name": "stdout",
     "output_type": "stream",
     "text": [
      "[1 2 3]\n"
     ]
    }
   ],
   "source": [
    "# 创建整数型数组\n",
    "\n",
    "import numpy as np\n",
    "\n",
    "arri = np.array([1,2,3])\n",
    "print(arri)"
   ]
  },
  {
   "cell_type": "code",
   "execution_count": 2,
   "metadata": {},
   "outputs": [
    {
     "name": "stdout",
     "output_type": "stream",
     "text": [
      "[1.2 3.  4.5 6. ]\n"
     ]
    }
   ],
   "source": [
    "# 创建浮点型数组\n",
    "\n",
    "import numpy as np\n",
    "arrii = np.array([1.2,3,4.5,6])\n",
    "print(arrii)\n",
    "\n",
    "# 当列表中只要含有一个浮点型数字的时候，那么转化成数组的时候，整个数组都是浮点型数组"
   ]
  },
  {
   "cell_type": "code",
   "execution_count": null,
   "metadata": {},
   "outputs": [],
   "source": [
    "# 使用print输出Numpy数组后，元素之间没有逗号，\n",
    "# 这有两个好处：\n",
    "# 1. 可以与 python 的列表区分开来。\n",
    "# 2. 避免逗号与小数点之间的混淆。\n",
    "\n",
    "\n",
    "# 同化定理\n",
    "#  1. 往整数型数组里插入浮点数，该浮点数会自动截断为整数\n",
    "#  2. 往浮点型数组里插入整数，该整数会自动升级为浮点数"
   ]
  },
  {
   "cell_type": "code",
   "execution_count": 4,
   "metadata": {},
   "outputs": [
    {
     "name": "stdout",
     "output_type": "stream",
     "text": [
      "[ 3  5 99  8]\n",
      "[ 1.1  4.5  6.5 34. ]\n"
     ]
    }
   ],
   "source": [
    "# 整数型数组插入浮点数\n",
    "\n",
    "import numpy as np\n",
    "\n",
    "ari = np.array([3,5,7,8])\n",
    "ari[2] = 99.8\n",
    "print(ari)\n",
    "\n",
    "\n",
    "# 浮点数型数组插入整数\n",
    "\n",
    "arra = np.array([1.1, 4.5, 6.5, 7.8])\n",
    "arra[-1] = 34\n",
    "print(arra)"
   ]
  },
  {
   "cell_type": "code",
   "execution_count": null,
   "metadata": {},
   "outputs": [],
   "source": [
    "# 3. 共同改变定理\n",
    "# 如果将两种数据类型的数组进行相互转化呢？\n",
    "\n",
    "\n",
    "#  整数型数组和浮点型数组相互转化， 规范的方法是使用：\n",
    ".astype()"
   ]
  },
  {
   "cell_type": "code",
   "execution_count": 7,
   "metadata": {},
   "outputs": [
    {
     "name": "stdout",
     "output_type": "stream",
     "text": [
      "[1 2 3 4 5 6]\n",
      "[1. 2. 3. 4. 5. 6.]\n"
     ]
    }
   ],
   "source": [
    "import numpy as np\n",
    "\n",
    "ar = np.array([1,2,3,4,5,6])\n",
    "print(ar)\n",
    "\n",
    "ar1 = ar.astype(float)\n",
    "print(ar1)\n",
    "\n"
   ]
  },
  {
   "cell_type": "code",
   "execution_count": null,
   "metadata": {},
   "outputs": [],
   "source": [
    "# 只要满足共同改变定理，整数型数组和浮点型数组仍可以相互转化。\n",
    "# 最常见的是整数型数组在运算过程中升级为浮点型数组"
   ]
  },
  {
   "cell_type": "code",
   "execution_count": 11,
   "metadata": {},
   "outputs": [
    {
     "name": "stdout",
     "output_type": "stream",
     "text": [
      "[1 3 5 7 9]\n",
      "[1. 3. 5. 7. 9.]\n",
      "[1. 3. 5. 7. 9.]\n",
      "[0.33333333 1.         1.66666667 2.33333333 3.        ]\n"
     ]
    }
   ],
   "source": [
    "import numpy as np\n",
    "\n",
    "att = np.array([1 , 3, 5, 7, 9])\n",
    "print(att)\n",
    "\n",
    "# 整数型数组与浮点数做运算\n",
    "print(att + 0.0)\n",
    "print(att * 1.0)\n",
    "\n",
    "# 浮点数，作为一个系数，去对数组的每一项都有作用\n",
    "\n",
    "\n",
    "# 整数型数组遇到除法（即便是除以整数）\n",
    "print(att / 1)\n",
    "\n",
    "# 数组除以一个常数，那么这个常数会作用到数组的每一个元素"
   ]
  },
  {
   "cell_type": "code",
   "execution_count": 13,
   "metadata": {},
   "outputs": [
    {
     "name": "stdout",
     "output_type": "stream",
     "text": [
      "[2.2 6.4 5.1]\n"
     ]
    }
   ],
   "source": [
    "# 整数型数组与浮点型数组做运算\n",
    "\n",
    "int_ar = np.array([1,3,5])\n",
    "float_ar = np.array([1.2,3.4,0.1])\n",
    "print(int_ar + float_ar)\n",
    "\n",
    "# 两者相加，对应元素，逐元素相加，是它的规则"
   ]
  },
  {
   "cell_type": "code",
   "execution_count": null,
   "metadata": {},
   "outputs": [],
   "source": [
    "# 1.2\n",
    "# 数组维度\n",
    "# (1) 一维维度 与 二维维度\n",
    "# —— 不同维度的数组之间，从外形上的本质区别：\n",
    "# 1. 一维数组使用1层中括号表示\n",
    "# 2. 二维数组使用2层中括号表示\n",
    "# 3. 三维数组使用3层中括号表示"
   ]
  },
  {
   "cell_type": "code",
   "execution_count": null,
   "metadata": {},
   "outputs": [],
   "source": [
    "# 有些函数需要传入数组的形状参数，不同维度数组的形状参数为\n",
    "# 1.一维数组的形状参数形： x 或 (x,)\n",
    "# 2.二维数组的形状参数形：（x,y)\n",
    "# 3.三维数组的形状参数形：（x,y,z)"
   ]
  },
  {
   "cell_type": "code",
   "execution_count": null,
   "metadata": {},
   "outputs": [],
   "source": [
    "# 同一个序列进行举例：\n",
    "# 1. 当数组有1层中括号，如[1 2 3]，则其为一维数组，其形状是3，或者(3，)\n",
    "# 2. 当数组有2层中括号，如[[1 2 3]], 则为二维数组，其形状是(1,3)\n",
    "# 3. 当数组有3层中括号，如[[[123]]], 则其为三维数组，其形状是(1,1,3)"
   ]
  },
  {
   "cell_type": "code",
   "execution_count": 16,
   "metadata": {},
   "outputs": [
    {
     "ename": "AttributeError",
     "evalue": "module 'numpy' has no attribute 'one'",
     "output_type": "error",
     "traceback": [
      "\u001b[0;31m---------------------------------------------------------------------------\u001b[0m",
      "\u001b[0;31mAttributeError\u001b[0m                            Traceback (most recent call last)",
      "Cell \u001b[0;32mIn[16], line 1\u001b[0m\n\u001b[0;32m----> 1\u001b[0m np\u001b[38;5;241m.\u001b[39mone()\n",
      "File \u001b[0;32m/opt/anaconda3/lib/python3.12/site-packages/numpy/__init__.py:333\u001b[0m, in \u001b[0;36m__getattr__\u001b[0;34m(attr)\u001b[0m\n\u001b[1;32m    330\u001b[0m     \u001b[38;5;124m\"\u001b[39m\u001b[38;5;124mRemoved in NumPy 1.25.0\u001b[39m\u001b[38;5;124m\"\u001b[39m\n\u001b[1;32m    331\u001b[0m     \u001b[38;5;28;01mraise\u001b[39;00m \u001b[38;5;167;01mRuntimeError\u001b[39;00m(\u001b[38;5;124m\"\u001b[39m\u001b[38;5;124mTester was removed in NumPy 1.25.\u001b[39m\u001b[38;5;124m\"\u001b[39m)\n\u001b[0;32m--> 333\u001b[0m \u001b[38;5;28;01mraise\u001b[39;00m \u001b[38;5;167;01mAttributeError\u001b[39;00m(\u001b[38;5;124m\"\u001b[39m\u001b[38;5;124mmodule \u001b[39m\u001b[38;5;132;01m{!r}\u001b[39;00m\u001b[38;5;124m has no attribute \u001b[39m\u001b[38;5;124m\"\u001b[39m\n\u001b[1;32m    334\u001b[0m                      \u001b[38;5;124m\"\u001b[39m\u001b[38;5;132;01m{!r}\u001b[39;00m\u001b[38;5;124m\"\u001b[39m\u001b[38;5;241m.\u001b[39mformat(\u001b[38;5;18m__name__\u001b[39m, attr))\n",
      "\u001b[0;31mAttributeError\u001b[0m: module 'numpy' has no attribute 'one'"
     ]
    }
   ],
   "source": [
    "np.ones() \n",
    "# 此函数可以传入形状参数"
   ]
  },
  {
   "cell_type": "code",
   "execution_count": 22,
   "metadata": {},
   "outputs": [
    {
     "name": "stdout",
     "output_type": "stream",
     "text": [
      "[1. 1. 1.]\n",
      "[[1. 1. 1.]]\n",
      "(3,)\n"
     ]
    }
   ],
   "source": [
    "import numpy as np\n",
    "arr = np.ones(3) #传入形状3\n",
    "print(arr) #造出一维数组\n",
    "\n",
    "arr2 = np.ones((1,3))\n",
    "print(arr2)\n",
    "\n",
    "\n",
    "print(arr.shape)"
   ]
  },
  {
   "cell_type": "code",
   "execution_count": 21,
   "metadata": {},
   "outputs": [
    {
     "ename": "SyntaxError",
     "evalue": "invalid syntax (3041882791.py, line 2)",
     "output_type": "error",
     "traceback": [
      "\u001b[0;36m  Cell \u001b[0;32mIn[21], line 2\u001b[0;36m\u001b[0m\n\u001b[0;31m    .shape\u001b[0m\n\u001b[0m    ^\u001b[0m\n\u001b[0;31mSyntaxError\u001b[0m\u001b[0;31m:\u001b[0m invalid syntax\n"
     ]
    }
   ],
   "source": [
    "# 查看形状：\n",
    ".shape\n",
    "\n",
    "\n",
    "# 随时留意数组的维度（通过中括号的数量），后面有些函数（比如数组的拼接函数），需要两个数组为同维度"
   ]
  },
  {
   "cell_type": "code",
   "execution_count": null,
   "metadata": {},
   "outputs": [],
   "source": [
    "# (2) 不同维度数组之间的转化\n",
    "# 一维数组转二维数组，还是二维数组转一维数组，均要使用的是数组的重塑方法：\n",
    ".reshape()\n",
    "#该方法需要传入重塑后的形状（shape）参数\n",
    "\n",
    "# 这个方法下，给定了其他维度的数值，剩下一个维度可以填 -1 ，让他自己去算"
   ]
  },
  {
   "cell_type": "code",
   "execution_count": 3,
   "metadata": {},
   "outputs": [
    {
     "name": "stdout",
     "output_type": "stream",
     "text": [
      "[0 1 2 3 4 5 6 7 8 9]\n",
      "[[0 1 2 3 4 5 6 7 8 9]]\n"
     ]
    }
   ],
   "source": [
    "import numpy as np\n",
    "\n",
    "ari = np.arange(10) # 一维数组\n",
    "print(ari)\n",
    "\n",
    "arri = ari.reshape(1,-1) # 升级为二维数组\n",
    "print(arri)"
   ]
  },
  {
   "cell_type": "code",
   "execution_count": 7,
   "metadata": {},
   "outputs": [
    {
     "name": "stdout",
     "output_type": "stream",
     "text": [
      "[[0 1 2 3 4]\n",
      " [5 6 7 8 9]]\n",
      "[0 1 2 3 4 5 6 7 8 9]\n"
     ]
    }
   ],
   "source": [
    "import numpy as np\n",
    "ari = np.arange(10).reshape(2,5) # 2 行 5 列\n",
    "print(ari)\n",
    "\n",
    "arri = ari.reshape(-1) # 降为一维数组\n",
    "print(arri)\n",
    "\n",
    "# 这里的.reshape()传入的形状参数是 -1，正常情况下是10，这里-1的含义是：\n",
    "# 反正是一维数组，形状直接自己去算\n",
    "# 一维数组称为向量 ，二维数组称为矩阵"
   ]
  }
 ],
 "metadata": {
  "kernelspec": {
   "display_name": "Python 3",
   "language": "python",
   "name": "python3"
  },
  "language_info": {
   "codemirror_mode": {
    "name": "ipython",
    "version": 3
   },
   "file_extension": ".py",
   "mimetype": "text/x-python",
   "name": "python",
   "nbconvert_exporter": "python",
   "pygments_lexer": "ipython3",
   "version": "3.12.4"
  }
 },
 "nbformat": 4,
 "nbformat_minor": 2
}
