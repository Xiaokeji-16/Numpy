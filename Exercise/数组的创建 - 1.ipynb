{
 "cells": [
  {
   "cell_type": "code",
   "execution_count": null,
   "metadata": {},
   "outputs": [],
   "source": [
    "# 2.1 创建指定的数组\n",
    "\n",
    "# 当明确知道数组每一个元素的具体数值时，可以使用：\n",
    "np.array()\n",
    "# 此函数，将python列表转化为numpy数组"
   ]
  },
  {
   "cell_type": "code",
   "execution_count": 3,
   "metadata": {},
   "outputs": [
    {
     "name": "stdout",
     "output_type": "stream",
     "text": [
      "[1 2 3]\n",
      "[[1 2 3]]\n",
      "[[1]\n",
      " [2]\n",
      " [3]]\n",
      "[[1 2 3]\n",
      " [4 5 6]]\n"
     ]
    }
   ],
   "source": [
    "import numpy as np\n",
    "\n",
    "# 创建一维数组 —— 向量\n",
    "ari = np.array([1,2,3])\n",
    "print(ari)\n",
    "\n",
    "# 创建二维数组 —— 行矩阵\n",
    "ari_i = np.array([[1,2,3]])\n",
    "print(ari_i)\n",
    "\n",
    "# 创建二维数组 —— 列矩阵\n",
    "ari_ii = np.array([[1],[2],[3]])\n",
    "print(ari_ii)\n",
    "\n",
    "# 创建二维数组 —— 矩阵\n",
    "ari_iii = np.array([[1,2,3],[4,5,6]])\n",
    "print(ari_iii)"
   ]
  },
  {
   "cell_type": "code",
   "execution_count": null,
   "metadata": {},
   "outputs": [],
   "source": [
    "# 2.2 创建递增数组\n",
    "# 递增数组使用：\n",
    "np.arange()\n",
    "# 此函数进行创建（ arange 全称是 array_range)"
   ]
  },
  {
   "cell_type": "code",
   "execution_count": 7,
   "metadata": {},
   "outputs": [
    {
     "name": "stdout",
     "output_type": "stream",
     "text": [
      "[0 1 2 3 4 5 6 7 8 9]\n",
      "[10 11 12 13 14 15 16 17 18 19]\n",
      "[ 1  3  5  7  9 11 13 15 17 19]\n",
      "[0. 1. 2. 3. 4. 5. 6. 7. 8. 9.]\n",
      "[0. 1. 2. 3. 4. 5. 6. 7. 8. 9.]\n",
      "[0. 1. 2. 3. 4. 5. 6. 7. 8. 9.]\n"
     ]
    }
   ],
   "source": [
    "import numpy as np\n",
    "\n",
    "# 递增数组 1 \n",
    "ari = np.arange(10) # 从0开始，到10之前结束\n",
    "print(ari)\n",
    "\n",
    "# 递增数组 2 \n",
    "ari_i = np.arange(10,20) # 从10开始，到20之前结束\n",
    "print(ari_i)\n",
    "\n",
    "# 递增数组 3\n",
    "ari_ii = np.arange(1,21,2) # 从1开始，到21之前结束，步长为2\n",
    "print(ari_ii)\n",
    "\n",
    "# 如过需要浮点数数组\n",
    "\n",
    "ari_iii = np.arange(10.0) \n",
    "air = 1.0 * np.arange(10)\n",
    "air_i = 0.0 + np.arange(10)\n",
    "print(ari_iii)\n",
    "print(air)\n",
    "print(air_i)"
   ]
  },
  {
   "cell_type": "code",
   "execution_count": null,
   "metadata": {},
   "outputs": [],
   "source": [
    "# 2.3 创建同值数组\n",
    "\n",
    "# 需要创建同值数组时，使用：\n",
    "np.zeros()\n",
    "np.ones()"
   ]
  },
  {
   "cell_type": "code",
   "execution_count": 11,
   "metadata": {},
   "outputs": [
    {
     "name": "stdout",
     "output_type": "stream",
     "text": [
      "[0. 0. 0.]\n",
      "[[1. 1. 1.]]\n",
      "[[3.14 3.14 3.14]\n",
      " [3.14 3.14 3.14]]\n"
     ]
    }
   ],
   "source": [
    "import numpy as np\n",
    "\n",
    "# 全0数组\n",
    "ari = np.zeros(3)\n",
    "print(ari)\n",
    "\n",
    "# 形状为3的向量\n",
    "\n",
    "# 全1的数组\n",
    "air = np.ones((1,3))\n",
    "print(air)\n",
    "\n",
    "# 形状为（1，3）的矩阵\n",
    "\n",
    "# 全3.14数组\n",
    "air_i = 3.14 * np.ones((2,3))\n",
    "print(air_i)\n",
    "\n",
    "# 形状为（2，3）的矩阵\n",
    "\n",
    "# 函数输出的并不熟整数型的数组，这可能是为了避免插入的浮点数被截断，所以将其设定为浮点型数组"
   ]
  },
  {
   "cell_type": "code",
   "execution_count": null,
   "metadata": {},
   "outputs": [],
   "source": [
    "# 2.4 创建随机数组\n",
    "\n",
    "# 有时候需要创建随机数组，那么可以使用：\n",
    "np.random\n",
    "# 这一系列函数\n"
   ]
  },
  {
   "cell_type": "code",
   "execution_count": 13,
   "metadata": {},
   "outputs": [
    {
     "name": "stdout",
     "output_type": "stream",
     "text": [
      "[0.11075538 0.64264358 0.02042178 0.58249104 0.14361325]\n",
      "[[87.05229463 70.83436543 78.85139404]\n",
      " [81.69389664 68.81293797 79.96175103]\n",
      " [93.48163579 98.62125922 89.19341561]]\n"
     ]
    }
   ],
   "source": [
    "import numpy as np\n",
    "\n",
    "# 0-1 均匀分布的浮点型随机数组\n",
    "\n",
    "air = np.random.random(5)\n",
    "print(air)\n",
    "\n",
    "# 创建60-100范围内均匀分布的3行3列随机数组：\n",
    "\n",
    "air_i = (100-60)*np.random.random((3,3)) + 60\n",
    "print(air_i)\n",
    "\n",
    "# 0-1均匀分布乘以40，它的范围就变成了0-40\n",
    "# 在加上60，它的范围就变成了60-100"
   ]
  },
  {
   "cell_type": "code",
   "execution_count": 18,
   "metadata": {},
   "outputs": [
    {
     "name": "stdout",
     "output_type": "stream",
     "text": [
      "[[61 47 52 54 77 47 21 14 75 32 41 98 94 55 77]]\n",
      "[[80 74 89 14 68 23 65 76 93 52 29 65 35 65 55]]\n",
      "[[62 84 84 69 85 21 57 42 70 19 34 35 50 36 66]]\n"
     ]
    }
   ],
   "source": [
    "# 整数型随机数组\n",
    "import numpy as np\n",
    "\n",
    "air = np.random.randint(10,100,(1,15))\n",
    "print(air)\n",
    "\n",
    "# 形状为（1，15）的矩阵\n",
    "# 该函数需要额外输入范围参数，本例的范围是10-100\n",
    "\n",
    "# ===========\n",
    "\n",
    "air_i = (90 * np.random.random((1,15))).astype(int) + 10\n",
    "print(air_i)\n",
    "\n",
    "air_ii = 90 * np.random.random((1,15)) + 10\n",
    "air_ii = air_ii.astype(int)\n",
    "print(air_ii)\n",
    "\n",
    "# 要注意运算顺序！！！"
   ]
  },
  {
   "cell_type": "code",
   "execution_count": 21,
   "metadata": {},
   "outputs": [
    {
     "name": "stdout",
     "output_type": "stream",
     "text": [
      "[[ 1.6437881   0.61048376  0.09862776]\n",
      " [-1.5064656  -0.59603616 -0.22539117]]\n",
      "[[ 0.70922136  2.93561698  5.37260268]\n",
      " [-0.31915282  2.67255491  3.28521706]]\n"
     ]
    }
   ],
   "source": [
    "# 服从正态分布的随机数组\n",
    "import numpy as np\n",
    "\n",
    "arr = np.random.normal(0,1,(2,3)) # 形状为（2，3）的二维矩阵\n",
    "print(arr)\n",
    "\n",
    "# 在np.random.normal()中要传入三个参数\n",
    "# 第一个参数 - 均值\n",
    "# 第二个参数 - 标准差\n",
    "# 第三个参数 - 形状\n",
    "\n",
    "\n",
    "\n",
    "arri = np.random.normal(2,2,(2,3)) \n",
    "print(arri)"
   ]
  },
  {
   "cell_type": "code",
   "execution_count": null,
   "metadata": {},
   "outputs": [],
   "source": [
    "# 该函数需要额外输入正态函数，本例中均值为0，标准差为1，\n",
    "# 在这种情况下，可以直接使用：\n",
    "np.random.randn()\n",
    "# 这一函数，只需传入形状参数即可"
   ]
  },
  {
   "cell_type": "code",
   "execution_count": 20,
   "metadata": {},
   "outputs": [
    {
     "name": "stdout",
     "output_type": "stream",
     "text": [
      "[[ 0.38238717 -0.48891094  0.32811224  0.40730005  0.45627537]\n",
      " [-0.48714437 -1.28484921 -1.11734518  0.28525466 -0.88197086]]\n"
     ]
    }
   ],
   "source": [
    "import numpy as np\n",
    "npp = np.random.randn(2,5)\n",
    "print(npp)"
   ]
  }
 ],
 "metadata": {
  "kernelspec": {
   "display_name": "base",
   "language": "python",
   "name": "python3"
  },
  "language_info": {
   "codemirror_mode": {
    "name": "ipython",
    "version": 3
   },
   "file_extension": ".py",
   "mimetype": "text/x-python",
   "name": "python",
   "nbconvert_exporter": "python",
   "pygments_lexer": "ipython3",
   "version": "3.12.4"
  }
 },
 "nbformat": 4,
 "nbformat_minor": 2
}
