{
 "cells": [
  {
   "cell_type": "code",
   "execution_count": null,
   "metadata": {},
   "outputs": [],
   "source": [
    "# 布尔型数组\n",
    "# 除了整数型数组和浮点型数组，还有一种有用的数组类型 -- 布尔型数组"
   ]
  },
  {
   "cell_type": "code",
   "execution_count": null,
   "metadata": {},
   "outputs": [],
   "source": [
    "# 7.1 创建布尔型数组\n",
    "# 由于Numpy的主要数据类型是整数型数组和浮点型数组，因此布尔型数组的产生离不开：\n",
    "# 大于 > ，大于等于 >= ，等于 == ，不等于 != ，小于 < ，小于等于 <="
   ]
  },
  {
   "cell_type": "code",
   "execution_count": 12,
   "metadata": {},
   "outputs": [
    {
     "name": "stdout",
     "output_type": "stream",
     "text": [
      "[[ 1  2  3  4]\n",
      " [ 5  6  7  8]\n",
      " [ 9 10 11 12]]\n",
      "[[False False False  True]\n",
      " [ True  True  True  True]\n",
      " [ True  True  True  True]]\n"
     ]
    },
    {
     "ename": "ValueError",
     "evalue": "The truth value of an array with more than one element is ambiguous. Use a.any() or a.all()",
     "output_type": "error",
     "traceback": [
      "\u001b[0;31m---------------------------------------------------------------------------\u001b[0m",
      "\u001b[0;31mValueError\u001b[0m                                Traceback (most recent call last)",
      "Cell \u001b[0;32mIn[12], line 9\u001b[0m\n\u001b[1;32m      5\u001b[0m \u001b[38;5;28mprint\u001b[39m(air)\n\u001b[1;32m      7\u001b[0m \u001b[38;5;28mprint\u001b[39m(air \u001b[38;5;241m>\u001b[39m\u001b[38;5;241m=\u001b[39m\u001b[38;5;241m4\u001b[39m)\n\u001b[0;32m----> 9\u001b[0m \u001b[38;5;28;01mif\u001b[39;00m air \u001b[38;5;241m>\u001b[39m\u001b[38;5;241m=\u001b[39m \u001b[38;5;241m4\u001b[39m:\n\u001b[1;32m     10\u001b[0m     \u001b[38;5;28mprint\u001b[39m(air)\n",
      "\u001b[0;31mValueError\u001b[0m: The truth value of an array with more than one element is ambiguous. Use a.any() or a.all()"
     ]
    }
   ],
   "source": [
    "# 先与数组和系数做比较，以产生布尔类型数组：\n",
    "import numpy as np\n",
    "\n",
    "air = np.arange(1,13).reshape(3,4)\n",
    "print(air)\n",
    "\n",
    "print(air >=4)\n",
    "\n"
   ]
  },
  {
   "cell_type": "code",
   "execution_count": 15,
   "metadata": {},
   "outputs": [
    {
     "name": "stdout",
     "output_type": "stream",
     "text": [
      "[1 2 3 4 5 6 7 8]\n",
      "[8 7 6 5 4 3 2 1]\n",
      "[False False False False  True  True  True  True]\n",
      "[ True  True  True  True False False False False]\n"
     ]
    }
   ],
   "source": [
    "# 同维数组做比较，以产生布尔型数组\n",
    "\n",
    "aaa = np.arange(1,9)\n",
    "bbb = np.flipud(aaa)\n",
    "\n",
    "print(aaa)\n",
    "print(bbb)\n",
    "\n",
    "print(aaa > bbb)\n",
    "print(aaa < bbb)"
   ]
  },
  {
   "cell_type": "code",
   "execution_count": null,
   "metadata": {},
   "outputs": [],
   "source": [
    "# 还可以同时比较多个条件，Python基础里，同时检查多个条件使用的与、或、非是：\n",
    "# and 、 or 、not\n",
    "# 但是Numpy中使用的与、或、非是：\n",
    "# & 、｜、～"
   ]
  },
  {
   "cell_type": "code",
   "execution_count": 17,
   "metadata": {},
   "outputs": [
    {
     "name": "stdout",
     "output_type": "stream",
     "text": [
      "[ 1  2  3  4  5  6  7  8  9 10 11 12 13 14 15 16]\n",
      "[ True  True  True  True  True  True  True  True  True False False False\n",
      " False False False False]\n"
     ]
    },
    {
     "ename": "TypeError",
     "evalue": "unsupported operand type(s) for |: 'NoneType' and 'bool'",
     "output_type": "error",
     "traceback": [
      "\u001b[0;31m---------------------------------------------------------------------------\u001b[0m",
      "\u001b[0;31mTypeError\u001b[0m                                 Traceback (most recent call last)",
      "Cell \u001b[0;32mIn[17], line 5\u001b[0m\n\u001b[1;32m      2\u001b[0m \u001b[38;5;28mprint\u001b[39m(aa)\n\u001b[1;32m      4\u001b[0m \u001b[38;5;66;03m# 多个条件\u001b[39;00m\n\u001b[0;32m----> 5\u001b[0m \u001b[38;5;28mprint\u001b[39m(aa \u001b[38;5;241m<\u001b[39m \u001b[38;5;241m10\u001b[39m)\u001b[38;5;241m|\u001b[39m(aa \u001b[38;5;241m>\u001b[39m\u001b[38;5;241m16\u001b[39m)\n",
      "\u001b[0;31mTypeError\u001b[0m: unsupported operand type(s) for |: 'NoneType' and 'bool'"
     ]
    }
   ],
   "source": [
    "aa = np.arange(1,17)\n",
    "print(aa)\n",
    "\n",
    "# 多个条件\n",
    "print(aa < 10)|(aa >16)"
   ]
  },
  {
   "cell_type": "code",
   "execution_count": null,
   "metadata": {},
   "outputs": [],
   "source": [
    "# 7.2 布尔型数组中Ture的数量\n",
    "# 有三个关于Ture数量的有用函数，分别是：\n",
    "np.sum()\n",
    "np.any()\n",
    "np.all()"
   ]
  },
  {
   "cell_type": "code",
   "execution_count": 29,
   "metadata": {},
   "outputs": [
    {
     "name": "stdout",
     "output_type": "stream",
     "text": [
      "6835\n"
     ]
    }
   ],
   "source": [
    "# 在np.sum()函数：统计布尔类型数组里Ture的个数。\n",
    "import numpy as np\n",
    "\n",
    "# 创建一个形状为10000的标准正态分布数组\n",
    "iii = np.random.normal(0,1,10000)\n",
    "\n",
    "# 统计该分布中绝对值小于1的元素个数\n",
    "num = np.sum(np.abs(iii) < 1)\n",
    "print(num) \n",
    "\n",
    "# np.abs(iii) < 1 可以替换(iii>-1)&(iii<1)\n",
    "# 此外，最终统计的数量为6814，其概率近似为0.6827，符合统计学的3σ准则"
   ]
  },
  {
   "cell_type": "code",
   "execution_count": 30,
   "metadata": {},
   "outputs": [
    {
     "name": "stdout",
     "output_type": "stream",
     "text": [
      "[1 2 3 4 5 6 7 8 9]\n",
      "[9 8 7 6 5 4 3 2 1]\n",
      "True\n"
     ]
    }
   ],
   "source": [
    "# 在np.any()函数：只要布尔类型数组里含有一个及以上的Ture，就返回Ture\n",
    "\n",
    "aaa = np.arange(1,10)\n",
    "bbb = np.flipud(aaa)\n",
    "\n",
    "print(aaa)\n",
    "print(bbb)\n",
    "\n",
    "# 统计这两个数组是否有共同元素\n",
    "print(np.any(aaa == bbb))\n",
    "\n",
    "# 含有共同元素的是5"
   ]
  },
  {
   "cell_type": "code",
   "execution_count": 31,
   "metadata": {},
   "outputs": [
    {
     "name": "stdout",
     "output_type": "stream",
     "text": [
      "False\n"
     ]
    }
   ],
   "source": [
    "# 在np.all()函数：当布尔类型数组全是Ture时，才返回Ture\n",
    "\n",
    "# 模拟英语六级的成绩，创建100000个样本\n",
    "\n",
    "ccc = np.random.normal(500,70,100000)\n",
    "\n",
    "# 判断是否所有考生的分手都高于425\n",
    "\n",
    "print(np.all(ccc>425))\n",
    "\n",
    "# 500 - 3 * 70"
   ]
  },
  {
   "cell_type": "code",
   "execution_count": 35,
   "metadata": {},
   "outputs": [
    {
     "name": "stdout",
     "output_type": "stream",
     "text": [
      "[[ 1  2  3]\n",
      " [ 4  5  6]\n",
      " [ 7  8  9]\n",
      " [10 11 12]\n",
      " [13 14 15]\n",
      " [16 17 18]]\n",
      "[[ True  True  True]\n",
      " [ True  True  True]\n",
      " [ True  True  True]\n",
      " [False False False]\n",
      " [False False False]\n",
      " [False False False]]\n",
      "[ 7  8  9 10 11 12 13 14 15 16 17 18]\n"
     ]
    }
   ],
   "source": [
    "# 7.3 布尔型数组作为掩码\n",
    "# 若一个普通数组和一个布尔类型数组的维度相同，可以将布尔型数组作为普通数组的掩码，\n",
    "# 这样可以对普通数组中的元素作筛选\n",
    "\n",
    "# 筛选出数组中大于，等于或小于某个数字的元素\n",
    "ar = np.arange(1,19).reshape(6,3)\n",
    "print(ar)\n",
    "\n",
    "# 数组与数字做比较\n",
    "print(ar < 10)\n",
    "\n",
    "# 筛选出ar > 6 的元素\n",
    "print(ar[ar > 6])\n",
    "# 这个矩阵进行掩码操作后，退化为了向量\n"
   ]
  },
  {
   "cell_type": "code",
   "execution_count": 38,
   "metadata": {},
   "outputs": [
    {
     "name": "stdout",
     "output_type": "stream",
     "text": [
      "[1 2 3 4 5 6 7 8 9]\n",
      "[9 8 7 6 5 4 3 2 1]\n",
      "[False False False False False  True  True  True  True]\n",
      "[6 7 8 9]\n",
      "[4 3 2 1]\n"
     ]
    }
   ],
   "source": [
    "# 筛选出数组逐元素比较的结果\n",
    "\n",
    "ccc = np.arange(1,10)\n",
    "ddd = np.flipud(ccc)\n",
    "print(ccc)\n",
    "print(ddd)\n",
    "\n",
    "# 同维度数组作比较\n",
    "print(ccc > ddd)\n",
    "\n",
    "# 筛选出ccc > ddd 位置上的元素\n",
    "print(ccc[ccc > ddd])\n",
    "print(ddd[ccc > ddd])"
   ]
  },
  {
   "cell_type": "code",
   "execution_count": null,
   "metadata": {},
   "outputs": [],
   "source": [
    "# 7.4 满足条件的元素所在位置\n",
    "# 假设一个很长的数组，我们想知道满足某一个条件的元素们所在的索引位置\n",
    "# 此时使用：\n",
    "np.where()"
   ]
  },
  {
   "cell_type": "code",
   "execution_count": 51,
   "metadata": {},
   "outputs": [
    {
     "name": "stdout",
     "output_type": "stream",
     "text": [
      "(array([ 85, 243, 409, 461, 475, 518, 541, 549, 620, 725, 754, 793, 921,\n",
      "       950]),)\n",
      "(array([409]),)\n"
     ]
    }
   ],
   "source": [
    "# 模拟英语六级成绩的随机数组，取10000个样本\n",
    "fff = np.random.normal(500,70,1000)\n",
    "\n",
    "# 找出六级成绩超过650的元素所在位置\n",
    "print(np.where(fff>650))\n",
    "\n",
    "# 找出六级成绩最高分的元素所在位置\n",
    "print(np.where(fff == np.max(fff)))\n",
    "\n",
    "# np.where()函数的输出看起来比较怪异，它是输出了一个元组，\n",
    "# 元组的第一个元素是“满足条件的元素所在位置”；\n",
    "# 第二个是数组类型，可忽略掉"
   ]
  }
 ],
 "metadata": {
  "kernelspec": {
   "display_name": "base",
   "language": "python",
   "name": "python3"
  },
  "language_info": {
   "codemirror_mode": {
    "name": "ipython",
    "version": 3
   },
   "file_extension": ".py",
   "mimetype": "text/x-python",
   "name": "python",
   "nbconvert_exporter": "python",
   "pygments_lexer": "ipython3",
   "version": "3.12.4"
  }
 },
 "nbformat": 4,
 "nbformat_minor": 2
}
