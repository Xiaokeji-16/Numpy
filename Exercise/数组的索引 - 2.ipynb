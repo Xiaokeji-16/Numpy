{
 "cells": [
  {
   "cell_type": "code",
   "execution_count": null,
   "metadata": {},
   "outputs": [],
   "source": [
    "# 3.1 访问数组元素\n",
    "\n",
    "# 与Python列表一致，访问Numpy数组元素时使用中括号，索引由0开始。"
   ]
  },
  {
   "cell_type": "code",
   "execution_count": 4,
   "metadata": {},
   "outputs": [
    {
     "name": "stdout",
     "output_type": "stream",
     "text": [
      "[2 4 6 8]\n",
      "6\n",
      "6\n",
      "[ 2 40  6  8]\n"
     ]
    }
   ],
   "source": [
    "# (1) 访问向量 \n",
    "\n",
    "import numpy as np\n",
    "\n",
    "air = np.arange(2,10,2)\n",
    "print(air)\n",
    "\n",
    "print(air[2]) # 正着访问\n",
    "print(air[-2]) # 倒着访问\n",
    "\n",
    "# 修改数组元素\n",
    "air[1] = 40\n",
    "print(air)"
   ]
  },
  {
   "cell_type": "code",
   "execution_count": 12,
   "metadata": {},
   "outputs": [
    {
     "name": "stdout",
     "output_type": "stream",
     "text": [
      "[[ 1 24  3]\n",
      " [45  6  7]]\n",
      "24 45\n",
      "[[ 1  2  3]\n",
      " [45  6  7]]\n"
     ]
    }
   ],
   "source": [
    "# (2) 访问矩阵\n",
    "import numpy as np\n",
    "\n",
    "arr = np.array([[1,24,3],[45,6,7]])\n",
    "print(arr)\n",
    "\n",
    "# 访问元素\n",
    "print(arr[0,1],arr[1,-3])\n",
    "\n",
    "# 修改元素\n",
    "arr[0,1] = 2\n",
    "print(arr)\n",
    "\n",
    "\n",
    "# 要注意，浮点数插入到整数数组时，会被截断"
   ]
  },
  {
   "cell_type": "code",
   "execution_count": null,
   "metadata": {},
   "outputs": [],
   "source": [
    "# 3.2 花式索引：\n",
    "# 花式索引（Fancy indexing)\n",
    "\n",
    "# 逗号在矩阵里区分行与列，在这里新增一个功能，且不会与矩阵里的逗号混淆"
   ]
  },
  {
   "cell_type": "code",
   "execution_count": 14,
   "metadata": {},
   "outputs": [
    {
     "name": "stdout",
     "output_type": "stream",
     "text": [
      "[ 0 10 20 30 40 50 60 70 80]\n",
      "[ 0 20]\n"
     ]
    }
   ],
   "source": [
    "# (1) 向量的花式索引\n",
    "\n",
    "import numpy as np\n",
    "\n",
    "arri = np.arange(0,90,10)\n",
    "print(arri)\n",
    "\n",
    "# 花式索引\n",
    "print(arri[[0,2]])\n",
    "\n",
    "# 花式索引需要两层中括号，[ [0,0] ]\n"
   ]
  },
  {
   "cell_type": "code",
   "execution_count": 19,
   "metadata": {},
   "outputs": [
    {
     "name": "stdout",
     "output_type": "stream",
     "text": [
      "[[ 1  2  3  4]\n",
      " [ 5  6  7  8]\n",
      " [ 9 10 11 12]\n",
      " [13 14 15 16]]\n",
      "[2 5]\n",
      "[3 6 9]\n",
      "[[ 1  2 16  4]\n",
      " [ 5  6  7  8]\n",
      " [16 10 11 12]\n",
      " [13 16 15 16]]\n"
     ]
    }
   ],
   "source": [
    "# (2)矩阵的花式索引\n",
    "import numpy as np\n",
    "\n",
    "arri = np.arange(1,17).reshape(4,4)\n",
    "print(arri)\n",
    "\n",
    "# 花式索引\n",
    "print(arri[[0,1],[1,0]])\n",
    "print(arri[[0,1,2],[2,1,0]]) # 一一对应\n",
    "# 第0行，第2列 ，第1行，第1列 ， 第2行，第0列\n",
    "\n",
    "# 修改数组元素\n",
    "arri[[0,2,3],[2,0,1]] = 16\n",
    "print(arri)"
   ]
  },
  {
   "cell_type": "code",
   "execution_count": 22,
   "metadata": {},
   "outputs": [
    {
     "name": "stdout",
     "output_type": "stream",
     "text": [
      "[ 0  1  2  3  4  5  6  7  8  9 10 11 12 13 14 15 16]\n",
      "[1 2 3]\n",
      "[ 1  2  3  4  5  6  7  8  9 10 11 12 13 14 15 16]\n",
      "[ 0  1  2  3  4  5  6  7  8  9 10 11]\n",
      "[ 0  1  2  3  4  5  6  7  8  9 10 11 12 13 14 15 16]\n",
      "[ 6  7  8  9 10 11]\n",
      "[ 4  5  6  7  8  9 10 11 12 13 14 15 16]\n",
      "[0 1 2 3 4 5]\n",
      "[ 0  1  2  3  4  5  6  7  8  9 10 11 12 13 14 15 16]\n",
      "[ 0  1  2  3  4  5  6  7  8  9 10 11 12 13 14 15 16]\n",
      "[ 0  4  8 12 16]\n",
      "[ 1  3  5  7  9 11 13]\n"
     ]
    }
   ],
   "source": [
    "# 3.3 访问数组的切片\n",
    "\n",
    "# (1) 向量的切片\n",
    "# 向量与列表的切片操作完全一致\n",
    "\n",
    "import numpy as np\n",
    "arri = np.arange(17)\n",
    "\n",
    "# 当明确知道从第x个元素切到第y个元素：\n",
    "print(arri)\n",
    "print(arri[1:4]) #从索引[1]开始，切到索引[4]之前\n",
    "print(arri[1: ]) #从索引[1]开始，切到结尾\n",
    "print(arri[ :12]) # 从数组开头开始，切到索引[12]之前\n",
    "\n",
    "# 当明确切除的组的开头与结尾：\n",
    "print(arri)\n",
    "print(arri[6:-5])  # 切除开头6个和结尾5个\n",
    "print(arri[4: ]) # 切除开头4个\n",
    "print(arri[ :-11]) # 切除结尾15个\n",
    "\n",
    "# 当明确隔几个元素采样一次时：\n",
    "print(arri)\n",
    "print(arri[ :  : 1]) #每1个元素采样一次\n",
    "print(arri[ :  : 4]) #每4个元素采样一次\n",
    "print(arri[1:-2:2]) # 切除头1个，尾2个，每2个元素采样一次"
   ]
  },
  {
   "cell_type": "code",
   "execution_count": 25,
   "metadata": {},
   "outputs": [
    {
     "name": "stdout",
     "output_type": "stream",
     "text": [
      "[[ 1  2  3  4]\n",
      " [ 5  6  7  8]\n",
      " [ 9 10 11 12]\n",
      " [13 14 15 16]\n",
      " [17 18 19 20]]\n",
      "[[ 6  7]\n",
      " [10 11]]\n",
      "[[ 1  3]\n",
      " [ 9 11]\n",
      " [17 19]]\n"
     ]
    }
   ],
   "source": [
    "# (2) 矩阵的切片\n",
    "\n",
    "import numpy as np\n",
    "arr = np.arange(1,21).reshape(5,4)\n",
    "print(arr)\n",
    "\n",
    "print(arr[1:3,1:-1]) # 行从1开始切，切到3之前，（1-2）；列从前后各第一列开始切\n",
    "\n",
    "# 跳跃采样\n",
    "print(arr[::2,::2])"
   ]
  },
  {
   "cell_type": "markdown",
   "metadata": {},
   "source": []
  },
  {
   "cell_type": "code",
   "execution_count": 31,
   "metadata": {},
   "outputs": [
    {
     "name": "stdout",
     "output_type": "stream",
     "text": [
      "[[ 1  2  3  4  5]\n",
      " [ 6  7  8  9 10]\n",
      " [11 12 13 14 15]\n",
      " [16 17 18 19 20]]\n",
      "[ 6  7  8  9 10]\n",
      "[[ 6  7  8  9 10]\n",
      " [11 12 13 14 15]]\n",
      "[11 12 13 14 15]\n",
      "9\n"
     ]
    }
   ],
   "source": [
    "# (3) 提取矩阵的行\n",
    "\n",
    "import numpy as np\n",
    "\n",
    "arr = np.arange(1,21).reshape(4,5)\n",
    "print(arr)\n",
    "\n",
    "print (arr[1,:]) # 提取第1行，列全要\n",
    "\n",
    "print(arr[1:3,:]) # 提取1至2行，列全要\n",
    "\n",
    "# 考虑到代码的简洁，当提取矩阵的某几行时可以简写（但提取列时候不可以）\n",
    "print(arr[2])\n",
    "\n",
    "\n",
    "print(arr[1][3]) # 提取第1行，在提取这行的第3个元素，不推荐！！！"
   ]
  },
  {
   "cell_type": "code",
   "execution_count": 32,
   "metadata": {},
   "outputs": [
    {
     "name": "stdout",
     "output_type": "stream",
     "text": [
      "[[ 1  2  3  4  5]\n",
      " [ 6  7  8  9 10]\n",
      " [11 12 13 14 15]\n",
      " [16 17 18 19 20]]\n",
      "[ 3  8 13 18]\n",
      "[[ 2  3]\n",
      " [ 7  8]\n",
      " [12 13]\n",
      " [17 18]]\n"
     ]
    }
   ],
   "source": [
    "# (4) 提取矩阵的列\n",
    "\n",
    "import numpy as np\n",
    "\n",
    "arr = np.arange(1,21).reshape(4,5)\n",
    "print(arr)\n",
    "\n",
    "print(arr[:,2]) # 提取第2列（注意，输出的向量）\n",
    "\n",
    "print(arr[:,1:3]) # 提取1至2列\n",
    "\n",
    "\n",
    "# 取某一个单独的列，出来的结果是一个向量，只是为了节省空间"
   ]
  },
  {
   "cell_type": "code",
   "execution_count": 42,
   "metadata": {},
   "outputs": [
    {
     "name": "stdout",
     "output_type": "stream",
     "text": [
      "[[ 1  2  3  4  5  6]\n",
      " [ 7  8  9 10 11 12]\n",
      " [13 14 15 16 17 18]]\n",
      "[ 4 10 16]\n",
      "[[ 4 10 16]]\n",
      "[[ 4]\n",
      " [10]\n",
      " [16]]\n"
     ]
    }
   ],
   "source": [
    "# 提取一个列矩阵\n",
    "\n",
    "import numpy as np\n",
    "\n",
    "arr = np.arange(1,19).reshape(3,6)\n",
    "print(arr)\n",
    "\n",
    "cut = arr[:,3] # 提取第3列\n",
    "print(cut)\n",
    "\n",
    "cut = cut.reshape((1,-1)) # 升级为矩阵\n",
    "print(cut)\n",
    "\n",
    "print(cut.T) # 转置操作 .T 只对矩阵有用"
   ]
  },
  {
   "cell_type": "code",
   "execution_count": 4,
   "metadata": {},
   "outputs": [
    {
     "name": "stdout",
     "output_type": "stream",
     "text": [
      "[0 1 2 3 4 5 6 7 8 9]\n",
      "[0 1 2]\n",
      "[20  1  2]\n",
      "[20  1  2  3  4  5  6  7  8  9]\n"
     ]
    }
   ],
   "source": [
    "# 3.4 数组切片仅是试图\n",
    "# (1) 数组切片仅是试图\n",
    "\n",
    "# Numpy 数组的切片仅仅是原数组的一个试图。换言之，Numpy切片并不会创建新的变量。\n",
    "\n",
    "import numpy as np \n",
    "\n",
    "arr = np.arange(10)\n",
    "print(arr)\n",
    "\n",
    "cut = arr[ : 3] #创建arr的切片cut\n",
    "print(cut)\n",
    "\n",
    "cut[0] = 20 #对切片的数值进行修改\n",
    "print(cut)\n",
    "\n",
    "print(arr) #原数组也被修改\n",
    "\n",
    "# 深度学习中，为节省内存，将多次使用 arr[:]= <表达式> 来替换 arr = <表达式>\n"
   ]
  },
  {
   "cell_type": "code",
   "execution_count": null,
   "metadata": {},
   "outputs": [],
   "source": [
    "# (2)备份切片为新变量\n",
    "# 如果真的需要为切片创建新的变量（这种情况很稀少），使用：\n",
    ".copy()"
   ]
  },
  {
   "cell_type": "code",
   "execution_count": 5,
   "metadata": {},
   "outputs": [
    {
     "name": "stdout",
     "output_type": "stream",
     "text": [
      "[ 0  1  2  3  4  5  6  7  8  9 10 11 12]\n",
      "[0 1 2]\n",
      "[40  1  2]\n",
      "[ 0  1  2  3  4  5  6  7  8  9 10 11 12]\n"
     ]
    }
   ],
   "source": [
    "import numpy as np\n",
    "\n",
    "arr = np.arange(13) # 创建一个0-12的向量\n",
    "print(arr)\n",
    "\n",
    "copy = arr[ :3].copy() # 创建arr的拷贝切片\n",
    "print(copy)\n",
    "\n",
    "copy[0] = 40 # 对拷贝切片的数值进行修改\n",
    "print(copy)\n",
    "\n",
    "print(arr) #原数组不变"
   ]
  },
  {
   "cell_type": "code",
   "execution_count": 6,
   "metadata": {},
   "outputs": [
    {
     "name": "stdout",
     "output_type": "stream",
     "text": [
      "[ 0  1  2  3  4  5  6  7  8  9 10 11 12]\n",
      "[ 0  1  2  3  4  5  6  7  8  9 10 11 12]\n",
      "[ 0  1 66  3  4  5  6  7  8  9 10 11 12]\n"
     ]
    }
   ],
   "source": [
    "# 3.5 数组赋值仅是绑定\n",
    "# (1) 数组赋值仅是绑定\n",
    "#  与Numpy数组的切片一样，Numpy数组完整的赋值给另一个数组，也只是绑定。\n",
    "# 换言之，Numpy 数组之间的赋值并不会创建新的变量。\n",
    "\n",
    "import numpy as np\n",
    "\n",
    "arr = np.arange(13)\n",
    "print(arr)\n",
    " \n",
    "arr_i = arr  # 把数组arr 赋值给另一个 arr_i\n",
    "print(arr_i)\n",
    "\n",
    "arr_i[2] = 66 #修改数组\n",
    "print(arr_i)"
   ]
  },
  {
   "cell_type": "code",
   "execution_count": null,
   "metadata": {},
   "outputs": [],
   "source": [
    "# (2)复制数组为新变量\n",
    "# 如果真的需要赋给一个新的数组，使用：\n",
    ".copy()"
   ]
  },
  {
   "cell_type": "code",
   "execution_count": 7,
   "metadata": {},
   "outputs": [
    {
     "name": "stdout",
     "output_type": "stream",
     "text": [
      "[0 1 2 3 4 5 6 7 8 9]\n",
      "[0 1 2 3 4 5 6 7 8 9]\n",
      "[ 0  1  2  3  4 88  6  7  8  9]\n",
      "[0 1 2 3 4 5 6 7 8 9]\n"
     ]
    }
   ],
   "source": [
    "import numpy as np\n",
    "\n",
    "arr = np.arange(10)\n",
    "print(arr)\n",
    "\n",
    "ar = arr.copy()  # 把数组arr拷贝赋值给另一个数组ar\n",
    "print(ar)\n",
    "\n",
    "ar[5] = 88  # 修改数组5\n",
    "print(ar)\n",
    "\n",
    "print(arr) # 查看原数组"
   ]
  }
 ],
 "metadata": {
  "kernelspec": {
   "display_name": "base",
   "language": "python",
   "name": "python3"
  },
  "language_info": {
   "codemirror_mode": {
    "name": "ipython",
    "version": 3
   },
   "file_extension": ".py",
   "mimetype": "text/x-python",
   "name": "python",
   "nbconvert_exporter": "python",
   "pygments_lexer": "ipython3",
   "version": "3.12.4"
  }
 },
 "nbformat": 4,
 "nbformat_minor": 2
}
