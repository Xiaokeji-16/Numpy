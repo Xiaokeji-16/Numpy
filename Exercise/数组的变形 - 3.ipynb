{
 "cells": [
  {
   "cell_type": "code",
   "execution_count": null,
   "metadata": {},
   "outputs": [],
   "source": [
    "# 数组的变形\n",
    "# 4.1 数组的转置\n",
    "# 数组的转置方法为：\n",
    ".T\n",
    "# 只对矩阵有效，因此遇到向量要先将其转化为矩阵。"
   ]
  },
  {
   "cell_type": "code",
   "execution_count": 3,
   "metadata": {},
   "outputs": [
    {
     "name": "stdout",
     "output_type": "stream",
     "text": [
      "[1 2 3 4 5 6]\n",
      "[[1 2 3 4 5 6]]\n",
      "[[1]\n",
      " [2]\n",
      " [3]\n",
      " [4]\n",
      " [5]\n",
      " [6]]\n"
     ]
    }
   ],
   "source": [
    "# (1) 向量的转置\n",
    "import numpy as np\n",
    "\n",
    "ar = np.arange(1,7)\n",
    "print(ar)\n",
    "\n",
    "arr = ar.reshape((1,-1)) #升级为矩阵\n",
    "print(arr)\n",
    "\n",
    "arri = arr.T # 行矩阵的转置\n",
    "print(arri)"
   ]
  },
  {
   "cell_type": "code",
   "execution_count": 10,
   "metadata": {},
   "outputs": [
    {
     "name": "stdout",
     "output_type": "stream",
     "text": [
      "[[0]\n",
      " [1]\n",
      " [2]\n",
      " [3]]\n",
      "[[0 1 2 3]]\n",
      "[[0 1 2]\n",
      " [3 4 5]]\n",
      "[[0 3]\n",
      " [1 4]\n",
      " [2 5]]\n"
     ]
    }
   ],
   "source": [
    "# (2) 矩阵的转置\n",
    "# 列矩阵的转置：\n",
    "\n",
    "import numpy as np\n",
    "arr = np.arange(4).reshape(4,1)  #创建列矩阵\n",
    "print(arr)\n",
    "\n",
    "arri = arr.T # 列矩阵的转置\n",
    "print(arri) #结果为行矩阵\n",
    "\n",
    "# 矩阵的转置\n",
    "\n",
    "ar = np.arange(6).reshape(2,3)\n",
    "print(ar)\n",
    "\n",
    "ar1 = ar.T  #矩阵的转置\n",
    "print(ar1)"
   ]
  },
  {
   "cell_type": "code",
   "execution_count": null,
   "metadata": {},
   "outputs": [],
   "source": [
    "# 4.2 数组的反转\n",
    "# 数组的翻转方法有两个：\n",
    "# 1. 一个是上下翻转，表示up-down\n",
    "np.flipud()\n",
    "# 2. 另一个是左右翻转，表示left—right\n",
    "np.fliplr()\n",
    "# 在数学中，向量并不是横着排，而是竖着排的"
   ]
  },
  {
   "cell_type": "code",
   "execution_count": 11,
   "metadata": {},
   "outputs": [
    {
     "name": "stdout",
     "output_type": "stream",
     "text": [
      "[ 0  1  2  3  4  5  6  7  8  9 10 11 12 13 14 15 16]\n",
      "[16 15 14 13 12 11 10  9  8  7  6  5  4  3  2  1  0]\n"
     ]
    }
   ],
   "source": [
    "# (1) 向量的翻转\n",
    "import numpy as np\n",
    "\n",
    "ari = np.arange(17)\n",
    "print(ari)\n",
    "\n",
    "ud = np.flipud(ari) #翻转向量\n",
    "print(ud)"
   ]
  },
  {
   "cell_type": "code",
   "execution_count": 2,
   "metadata": {},
   "outputs": [
    {
     "name": "stdout",
     "output_type": "stream",
     "text": [
      "[[ 1  2  3  4]\n",
      " [ 5  6  7  8]\n",
      " [ 9 10 11 12]\n",
      " [13 14 15 16]]\n",
      "[[ 4  3  2  1]\n",
      " [ 8  7  6  5]\n",
      " [12 11 10  9]\n",
      " [16 15 14 13]]\n",
      "[[13 14 15 16]\n",
      " [ 9 10 11 12]\n",
      " [ 5  6  7  8]\n",
      " [ 1  2  3  4]]\n"
     ]
    }
   ],
   "source": [
    "# (2) 矩阵的翻转\n",
    "import numpy as np\n",
    "\n",
    "ari = np.arange(1,17).reshape(4,4)\n",
    "print(ari)\n",
    "\n",
    "# 左右翻转\n",
    "lr = np.fliplr(ari)\n",
    "print(lr)\n",
    "\n",
    "# 上下翻转\n",
    "ud = np.flipud(ari)\n",
    "print(ud)"
   ]
  },
  {
   "cell_type": "code",
   "execution_count": null,
   "metadata": {},
   "outputs": [],
   "source": [
    "# 4.3 数组的重塑\n",
    "# 想要重塑数组的形状，需要用到：\n",
    ".reshape()\n",
    "# 如过给定了其他维度的数值，剩下的一个维度可以填写 -1，让他自己去算：\n",
    "# 比如把一个5行6列的矩阵重塑为3行10列的举证，当列的参数10告诉它，行的参数直接用-1来替代，它会自己去用30除以10来计算。"
   ]
  },
  {
   "cell_type": "code",
   "execution_count": 9,
   "metadata": {},
   "outputs": [
    {
     "name": "stdout",
     "output_type": "stream",
     "text": [
      "[ 2  3  4  5  6  7  8  9 10 11]\n",
      "[[ 2  3  4  5  6]\n",
      " [ 7  8  9 10 11]]\n",
      "[[1 3 5 7]\n",
      " [2 4 6 8]]\n",
      "[1 3 5 7 2 4 6 8]\n",
      "[[1 3 5 7 2 4 6 8]]\n"
     ]
    }
   ],
   "source": [
    "# (1) 向量的变形\n",
    "import numpy as np\n",
    "\n",
    "arr = np.arange(2,12)\n",
    "print(arr)\n",
    "\n",
    "ari = arr.reshape(2,5) #变形为矩阵\n",
    "print(ari)\n",
    "\n",
    "# (2) 矩阵的变形\n",
    "ar = np.array([[1,3,5,7],[2,4,6,8]])\n",
    "print(ar)\n",
    "\n",
    "aaa = ar.reshape(8) # 变形为向量 ，可以直接写入 -1\n",
    "print(aaa)\n",
    "\n",
    "bbb = ar.reshape(1,8) #变形为矩阵\n",
    "print(bbb)"
   ]
  },
  {
   "cell_type": "code",
   "execution_count": 12,
   "metadata": {},
   "outputs": [
    {
     "name": "stdout",
     "output_type": "stream",
     "text": [
      "[1 2 3] [4 5 6]\n",
      "[1 2 3 4 5 6]\n"
     ]
    }
   ],
   "source": [
    "# 4.4 数组的拼接\n",
    "# (1) 向量的拼接\n",
    "# 两个向量的拼接，将得到一个新的加长版向量\n",
    "np.concatenate([],[])\n"
   ]
  },
  {
   "cell_type": "code",
   "execution_count": null,
   "metadata": {},
   "outputs": [],
   "source": [
    "import numpy as np\n",
    "\n",
    "aaa = np.array([1,2,3])\n",
    "bbb = np.array([4,5,6])\n",
    "print(aaa,bbb)\n",
    "\n",
    "# 拼接\n",
    "ccc = np.concatenate([aaa,bbb])\n",
    "print(ccc)"
   ]
  },
  {
   "cell_type": "code",
   "execution_count": 20,
   "metadata": {},
   "outputs": [
    {
     "name": "stdout",
     "output_type": "stream",
     "text": [
      "[[1 1 1]\n",
      " [2 2 2]] [[3 4 5]\n",
      " [6 7 8]]\n",
      "[[1 1 1]\n",
      " [2 2 2]\n",
      " [3 4 5]\n",
      " [6 7 8]]\n",
      "[[1 1 1 3 4 5]\n",
      " [2 2 2 6 7 8]]\n"
     ]
    }
   ],
   "source": [
    "# (2) 矩阵的拼接\n",
    "# 两个矩阵可以按不同的维度进行拼接，但拼接时必须注意维度的吻合。\n",
    "\n",
    "import numpy as np\n",
    "\n",
    "aaa = np.array([[1,1,1],[2,2,2]])\n",
    "bbb = np.array([[3,4,5],[6,7,8]])\n",
    "print(aaa,bbb)\n",
    "\n",
    "# 按第一个维度（行）拼接\n",
    "ccc = np.concatenate([aaa,bbb]) # 默认参数 axis=0 ,增加行的方向进行拼接\n",
    "print(ccc)\n",
    "\n",
    "# 按第二个维度（列）拼接\n",
    "ddd = np.concatenate([aaa,bbb],axis=1) # 如果 axis=1，那就是按照列的方向进行拼接\n",
    "print(ddd)\n",
    "\n",
    "# 最后要说明的是，向量和矩阵不能进行拼接，必须先把向量升级为矩阵！！！"
   ]
  },
  {
   "cell_type": "code",
   "execution_count": 22,
   "metadata": {},
   "outputs": [
    {
     "name": "stdout",
     "output_type": "stream",
     "text": [
      "[10 20 30 40 50 60 70 80 90]\n",
      "[10 20] [30 40 50 60 70 80] [90]\n"
     ]
    }
   ],
   "source": [
    "# 4.5 数组的分裂\n",
    "# (1) 向量的分裂\n",
    "# 向量分裂，将得到若干个更短的向量\n",
    "\n",
    "import numpy as np\n",
    "iii = np.arange(10,100,10)\n",
    "print(iii)\n",
    "\n",
    "# 分裂数组\n",
    "aa,bb,cc = np.split(iii,[2,8]) \n",
    "print(aa,bb,cc)\n"
   ]
  },
  {
   "cell_type": "code",
   "execution_count": null,
   "metadata": {},
   "outputs": [],
   "source": [
    "np.split()\n",
    "# 在此函数中，给出的第二个参数[2,8],表示索引[2]和索引[8]的位置截断"
   ]
  },
  {
   "cell_type": "code",
   "execution_count": 25,
   "metadata": {},
   "outputs": [
    {
     "name": "stdout",
     "output_type": "stream",
     "text": [
      "[[1 2 3 4]\n",
      " [5 6 7 8]]\n",
      "[[1 2 3 4]] \n",
      "\n",
      " [[5 6 7 8]]\n",
      "[[1 2]\n",
      " [5 6]] \n",
      "\n",
      " [[3 4]\n",
      " [7 8]] \n",
      "\n",
      " []\n"
     ]
    }
   ],
   "source": [
    "# (2) 矩阵的分裂\n",
    "# 矩阵的分裂同样可以按不同的维度进行，分裂出来的均为矩阵\n",
    "import numpy as np\n",
    "\n",
    "ar = np.arange(1,9).reshape(2,4)\n",
    "print(ar)\n",
    "\n",
    "# 按第一个维度（行）分裂\n",
    "aaa,bbb = np.split(ar,[1]) #默认参数axis=0\n",
    "print(aaa,'\\n\\n',bbb)  # 注意输出的是矩阵\n",
    "\n",
    "# 按第二维度（列）分裂\n",
    "ccc,ddd,eee = np.split(ar,[2,4],axis=1)\n",
    "print(ccc,'\\n\\n',ddd,'\\n\\n',eee)"
   ]
  }
 ],
 "metadata": {
  "kernelspec": {
   "display_name": "base",
   "language": "python",
   "name": "python3"
  },
  "language_info": {
   "codemirror_mode": {
    "name": "ipython",
    "version": 3
   },
   "file_extension": ".py",
   "mimetype": "text/x-python",
   "name": "python",
   "nbconvert_exporter": "python",
   "pygments_lexer": "ipython3",
   "version": "3.12.4"
  }
 },
 "nbformat": 4,
 "nbformat_minor": 2
}
