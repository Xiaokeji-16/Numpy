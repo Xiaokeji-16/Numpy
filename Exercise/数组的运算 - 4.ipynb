{
 "cells": [
  {
   "cell_type": "code",
   "execution_count": 3,
   "metadata": {},
   "outputs": [
    {
     "name": "stdout",
     "output_type": "stream",
     "text": [
      "[[ 1  2  3  4  5  6]\n",
      " [ 7  8  9 10 11 12]\n",
      " [13 14 15 16 17 18]]\n",
      "[[11 12 13 14 15 16]\n",
      " [17 18 19 20 21 22]\n",
      " [23 24 25 26 27 28]]\n",
      "[[-9 -8 -7 -6 -5 -4]\n",
      " [-3 -2 -1  0  1  2]\n",
      " [ 3  4  5  6  7  8]]\n",
      "[[ 10  20  30  40  50  60]\n",
      " [ 70  80  90 100 110 120]\n",
      " [130 140 150 160 170 180]]\n",
      "[[0.1 0.2 0.3 0.4 0.5 0.6]\n",
      " [0.7 0.8 0.9 1.  1.1 1.2]\n",
      " [1.3 1.4 1.5 1.6 1.7 1.8]]\n",
      "[[  1   4   9  16  25  36]\n",
      " [ 49  64  81 100 121 144]\n",
      " [169 196 225 256 289 324]]\n",
      "[[0 0 0 1 1 1]\n",
      " [1 2 2 2 2 3]\n",
      " [3 3 3 4 4 4]]\n",
      "[[1 2 3 0 1 2]\n",
      " [3 0 1 2 3 0]\n",
      " [1 2 3 0 1 2]]\n"
     ]
    }
   ],
   "source": [
    "# 数组的运算\n",
    "# 5.1 数组与系数之间的运算\n",
    "import numpy as np\n",
    "arr = np.arange(1,19).reshape(3,6)\n",
    "print(arr)\n",
    "\n",
    "print(arr + 10) # 加\n",
    "\n",
    "print(arr - 10) # 减\n",
    "\n",
    "print(arr * 10) # 乘\n",
    "\n",
    "print(arr / 10) # 除\n",
    "\n",
    "print(arr ** 2) # 平方\n",
    "\n",
    "print(arr // 4) # 取整\n",
    "\n",
    "print(arr % 4) # 取余\n",
    "# 当一个矩阵和一个系数进行运算的时候，系数会作用到矩阵的每一个元素\n",
    "# 在除法中，不管除以多少，最后都以浮点型数组输出"
   ]
  },
  {
   "cell_type": "code",
   "execution_count": 12,
   "metadata": {},
   "outputs": [
    {
     "name": "stdout",
     "output_type": "stream",
     "text": [
      "[[-1 -2 -3]\n",
      " [-4 -5 -6]\n",
      " [-7 -8 -9]]\n",
      "[[1 2 3]\n",
      " [4 5 6]\n",
      " [7 8 9]]\n",
      "[[0 0 0]\n",
      " [0 0 0]\n",
      " [0 0 0]]\n",
      "[[ -2  -4  -6]\n",
      " [ -8 -10 -12]\n",
      " [-14 -16 -18]]\n",
      "[[ -1  -4  -9]\n",
      " [-16 -25 -36]\n",
      " [-49 -64 -81]]\n",
      "[[-1. -1. -1.]\n",
      " [-1. -1. -1.]\n",
      " [-1. -1. -1.]]\n",
      "[[        -1          4        -27]\n",
      " [       256      -3125      46656]\n",
      " [   -823543   16777216 -387420489]]\n"
     ]
    }
   ],
   "source": [
    "# 5.2 数组与数组之间的运算\n",
    "# 同维度数组之间的运算即对应元素之间的运算，矩阵和向量与系数之间的操作与之相同。\n",
    "\n",
    "import numpy as np\n",
    "air = np.arange(-1,-10,-1).reshape(3,3)\n",
    "print(air)\n",
    "air2 = -air\n",
    "print(air2)\n",
    "\n",
    "print(air + air2) # 加\n",
    "\n",
    "print(air - air2) # 减\n",
    "\n",
    "print(air * air2) # 乘\n",
    "# 乘法是遵循对应元素相乘的 - 逐元素乘积，如何实现现代的“矩阵级乘法，在后面会提到。\n",
    "\n",
    "print(air / air2) # 除 ， 只要有除法运算符，整数型一定会变成浮点型数组\n",
    "\n",
    "print(air ** air2) # 平方\n"
   ]
  },
  {
   "cell_type": "code",
   "execution_count": null,
   "metadata": {},
   "outputs": [],
   "source": [
    "# 5.3 广播 （向量或者行矩阵/列矩阵，都有一个维度为1，维度为1的那个维度会被广播，去适配另一个矩阵的形状）\n",
    "# 5.2是同形状数组之间的逐元素运算，此章节讲解不同形状的数组之间的的运算：\n",
    "# 二维数组之内的情况下，不同形状的数组之间的运算有以下规则：\n",
    "# 1. 如果是向量与矩阵之间的运算，向量自动升级为行矩阵； 且只能升级为行矩阵，不能升级为列矩阵\n",
    "# 2. 如果某矩阵是行矩阵或者列矩阵，则其称为广播，以适配另一个矩阵的形状"
   ]
  },
  {
   "cell_type": "code",
   "execution_count": 17,
   "metadata": {},
   "outputs": [
    {
     "name": "stdout",
     "output_type": "stream",
     "text": [
      "[-100    0  100]\n",
      "[[0.58313038 0.1667611  0.0739695 ]\n",
      " [0.03660977 0.26682784 0.21668965]\n",
      " [0.15646449 0.78235562 0.22305511]\n",
      " [0.45021323 0.9465178  0.62928633]\n",
      " [0.38626509 0.48994773 0.56912315]\n",
      " [0.13388943 0.5531964  0.01304042]]\n",
      "[[-58.31303777   0.           7.39694978]\n",
      " [ -3.66097706   0.          21.6689649 ]\n",
      " [-15.64644878   0.          22.30551064]\n",
      " [-45.02132311   0.          62.92863303]\n",
      " [-38.626509     0.          56.91231495]\n",
      " [-13.38894348   0.           1.30404238]]\n"
     ]
    }
   ],
   "source": [
    "# (1) 向量被广播\n",
    "# 当一个形状为（x,y)的矩阵与一个向量做运算时，要求该向量的形状必须为y，运算时向量会自动升级成形状为（1，y）的行矩阵\n",
    "# 该形状为（1，y）的行矩阵再自动被广播为形状为（x，y）的矩阵，这样就与另一个矩阵的形状适配了。\n",
    "\n",
    "import numpy as np\n",
    "\n",
    "# 向量\n",
    "arr = np.array([-100,0,100])\n",
    "print(arr)\n",
    "\n",
    "# 矩阵\n",
    "arr2 = np.random.random((6,3))\n",
    "print(arr2)\n",
    "\n",
    "# 广播：\n",
    "print(arr * arr2)\n",
    "# -100就会沿着垂直的方向去广播，0会沿着垂直方向去广播，100一样，然后二者之间的形状就匹配了\n",
    "# arr2这个随机矩阵，它的第一列全部都乘 -100，第二列全部乘 0，第三列全部乘100\n"
   ]
  },
  {
   "cell_type": "code",
   "execution_count": 21,
   "metadata": {},
   "outputs": [
    {
     "name": "stdout",
     "output_type": "stream",
     "text": [
      "[[0]\n",
      " [1]\n",
      " [2]\n",
      " [3]]\n",
      "[[1. 1. 1.]\n",
      " [1. 1. 1.]\n",
      " [1. 1. 1.]\n",
      " [1. 1. 1.]]\n",
      "[[0. 0. 0.]\n",
      " [1. 1. 1.]\n",
      " [2. 2. 2.]\n",
      " [3. 3. 3.]]\n"
     ]
    }
   ],
   "source": [
    "# (2)列矩阵被广播\n",
    "# 当一个形状为(x,y)的矩阵与另一个矩阵做运算时，要求该列矩阵的形状必须为(x,1),\n",
    "# 该形状为(x,1)的列矩阵再自动被广播为形状为(x,y)的矩阵，这样就与另一个矩阵的形状适配了。\n",
    "\n",
    "import numpy as np\n",
    "\n",
    "# 列矩阵\n",
    "arr = np.arange(4).reshape(4,1)\n",
    "print(arr)\n",
    "\n",
    "# 矩阵\n",
    "ar = np.ones((4,3))\n",
    "print(ar)\n",
    "\n",
    "# 广播：\n",
    "print(arr * ar)\n",
    "# 列矩阵会沿着水平方向去广播，去广播3次"
   ]
  },
  {
   "cell_type": "code",
   "execution_count": 25,
   "metadata": {},
   "outputs": [
    {
     "name": "stdout",
     "output_type": "stream",
     "text": [
      "[0 1 2 3]\n",
      "[[0]\n",
      " [1]\n",
      " [2]\n",
      " [3]]\n",
      "[[0 0 0 0]\n",
      " [0 1 2 3]\n",
      " [0 2 4 6]\n",
      " [0 3 6 9]]\n"
     ]
    }
   ],
   "source": [
    "# (3)行矩阵与列矩阵同时被广播\n",
    "# 当一个形状为(1,y)的行矩阵与一个形状为(x,1)的列矩阵做运算时，\n",
    "# 这两个矩阵都会被自动广播为形状为(x,y)的矩阵，这样就互相适配了\n",
    "\n",
    "import numpy as np\n",
    "\n",
    "# 向量\n",
    "arr = np.arange(4)\n",
    "print(arr)\n",
    "\n",
    "# 列矩阵\n",
    "arri = np.arange(4).reshape(4,1)\n",
    "print(arri)\n",
    "\n",
    "# 广播\n",
    "print(arr * arri)"
   ]
  },
  {
   "cell_type": "code",
   "execution_count": null,
   "metadata": {},
   "outputs": [],
   "source": []
  },
  {
   "cell_type": "markdown",
   "metadata": {},
   "source": []
  },
  {
   "cell_type": "code",
   "execution_count": null,
   "metadata": {},
   "outputs": [],
   "source": []
  },
  {
   "cell_type": "code",
   "execution_count": null,
   "metadata": {},
   "outputs": [],
   "source": []
  }
 ],
 "metadata": {
  "kernelspec": {
   "display_name": "base",
   "language": "python",
   "name": "python3"
  },
  "language_info": {
   "codemirror_mode": {
    "name": "ipython",
    "version": 3
   },
   "file_extension": ".py",
   "mimetype": "text/x-python",
   "name": "python",
   "nbconvert_exporter": "python",
   "pygments_lexer": "ipython3",
   "version": "3.12.4"
  }
 },
 "nbformat": 4,
 "nbformat_minor": 2
}
