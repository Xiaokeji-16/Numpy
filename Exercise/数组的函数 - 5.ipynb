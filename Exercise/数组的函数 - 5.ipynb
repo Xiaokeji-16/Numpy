{
 "cells": [
  {
   "cell_type": "code",
   "execution_count": null,
   "metadata": {},
   "outputs": [],
   "source": [
    "# 6.1 矩阵乘积\n",
    "# 前一章的乘法都是“逐元素相乘”，这里介绍线性代数中的矩阵乘积，\n",
    "# 只需要使用：\n",
    "np.dot()\n",
    "# 当矩阵乘积中混有向量时，根据需求，其可充当行矩阵，也可充当列矩阵，但是混有向量时输出结果必为向量》\n"
   ]
  },
  {
   "cell_type": "code",
   "execution_count": 7,
   "metadata": {},
   "outputs": [
    {
     "name": "stdout",
     "output_type": "stream",
     "text": [
      "[0 1 2 3 4]\n",
      "[0 1 2 3 4]\n",
      "[ 0  1  4  9 16]\n",
      "30\n"
     ]
    }
   ],
   "source": [
    "# (1) 向量与向量的乘积\n",
    "# 设两个向量的形状按前后顺序分别是5以及5，从矩阵乘法的角度\n",
    "# (1,5)*(5,1)=(1,1)，因此输出的应该是形状为1的向量\n",
    "import numpy as np\n",
    "\n",
    "ar = np.arange(5)\n",
    "ar2= np.arange(5)\n",
    "print(ar)\n",
    "print(ar2)\n",
    "\n",
    "print(ar*ar2)\n",
    "print(np.dot(ar,ar2)) #所以就是ar和ar2乘积相加的和\n"
   ]
  },
  {
   "cell_type": "code",
   "execution_count": 11,
   "metadata": {},
   "outputs": [
    {
     "name": "stdout",
     "output_type": "stream",
     "text": [
      "[0 1 2 3 4]\n",
      "[[ 0  1  2]\n",
      " [ 3  4  5]\n",
      " [ 6  7  8]\n",
      " [ 9 10 11]\n",
      " [12 13 14]]\n",
      "[ 90 100 110]\n"
     ]
    }
   ],
   "source": [
    "# (2)向量与矩阵的乘积\n",
    "# 设向量的形状是5，矩阵的形状是（5，3）。从矩阵乘法的角度，由（1，5）*（5，3）=（1，3），因此输出的应该是形状为3的向量\n",
    "import numpy as np\n",
    "aa = np.arange(5)\n",
    "bb = np.arange(15).reshape(5,3)\n",
    "print(aa)\n",
    "print(bb)\n",
    "\n",
    "# 矩阵乘积\n",
    "print(np.dot(aa,bb))"
   ]
  },
  {
   "cell_type": "code",
   "execution_count": 14,
   "metadata": {},
   "outputs": [
    {
     "name": "stdout",
     "output_type": "stream",
     "text": [
      "[[ 0  1  2  3  4]\n",
      " [ 5  6  7  8  9]\n",
      " [10 11 12 13 14]]\n",
      "[0 1 2 3 4]\n",
      "[ 30  80 130]\n"
     ]
    }
   ],
   "source": [
    "# (3) 矩阵与向量的乘积\n",
    "# 设矩阵的形状是（3，5），向量的形状是5。从矩阵乘法的角度，有（3，5）*（3，1）= （3，1）\n",
    "# 因此输出的应该是形状为3的向量\n",
    "import numpy as np\n",
    "\n",
    "air = np.arange(15).reshape(3,5)\n",
    "ai = np.arange(5)\n",
    "\n",
    "print(air)\n",
    "print(ai)\n",
    "\n",
    "print(np.dot(air,ai))"
   ]
  },
  {
   "cell_type": "code",
   "execution_count": 16,
   "metadata": {},
   "outputs": [
    {
     "name": "stdout",
     "output_type": "stream",
     "text": [
      "[[0 1]\n",
      " [2 3]\n",
      " [4 5]\n",
      " [6 7]\n",
      " [8 9]]\n",
      "[[ 0  1  2  3  4  5  6  7]\n",
      " [ 8  9 10 11 12 13 14 15]]\n",
      "[[  8   9  10  11  12  13  14  15]\n",
      " [ 24  29  34  39  44  49  54  59]\n",
      " [ 40  49  58  67  76  85  94 103]\n",
      " [ 56  69  82  95 108 121 134 147]\n",
      " [ 72  89 106 123 140 157 174 191]]\n"
     ]
    }
   ],
   "source": [
    "# (4) 矩阵与矩阵的乘积\n",
    "# 设两个矩阵的形状按前后顺序分别为（5，2）以及（2，8）。\n",
    "# 从矩阵乘法的角度，有（5，2）*（2，8）= （5，8）的矩阵\n",
    "\n",
    "import numpy as np\n",
    "\n",
    "a = np.arange(10).reshape(5,2)\n",
    "b = np.arange(16).reshape(2,8)\n",
    "\n",
    "print(a)\n",
    "print(b)\n",
    "\n",
    "print(np.dot(a,b))"
   ]
  },
  {
   "cell_type": "code",
   "execution_count": 18,
   "metadata": {},
   "outputs": [
    {
     "name": "stdout",
     "output_type": "stream",
     "text": [
      "[-10   0  10]\n",
      "[10  0 10]\n"
     ]
    }
   ],
   "source": [
    "# 6.2 数学函数\n",
    "# Numpy设计了很多的数学函数，这里举例了其中最重要，最常见的几个。\n",
    "import numpy as np\n",
    "\n",
    "# 绝对值函数 - np.abs()\n",
    "av = np.array([-10,0,10])\n",
    "absv = np.abs(av)\n",
    "\n",
    "print(av)\n",
    "print(absv)"
   ]
  },
  {
   "cell_type": "code",
   "execution_count": 19,
   "metadata": {},
   "outputs": [
    {
     "name": "stdout",
     "output_type": "stream",
     "text": [
      "[0.         1.57079633 3.14159265]\n",
      "[0.0000000e+00 1.0000000e+00 1.2246468e-16]\n",
      "[ 1.000000e+00  6.123234e-17 -1.000000e+00]\n",
      "[ 0.00000000e+00  1.63312394e+16 -1.22464680e-16]\n"
     ]
    }
   ],
   "source": [
    "# 三角函数\n",
    "theta = np.arange(3)* np.pi / 2 \n",
    "sinv = np.sin(theta)\n",
    "cosv = np.cos(theta)\n",
    "tanv = np.tan(theta)\n",
    "\n",
    "print(theta) # 原数组\n",
    "print(sinv) # 正弦值\n",
    "print(cosv) # 余弦值\n",
    "print(tanv) # 正切值"
   ]
  },
  {
   "cell_type": "code",
   "execution_count": 20,
   "metadata": {},
   "outputs": [
    {
     "name": "stdout",
     "output_type": "stream",
     "text": [
      "[1 2 3]\n",
      "[ 2.71828183  7.3890561  20.08553692]\n",
      "[2 4 8]\n",
      "[  10  100 1000]\n"
     ]
    }
   ],
   "source": [
    "# 指数函数\n",
    "x = np.arange(1,4)\n",
    "\n",
    "print(x) \n",
    "print(np.exp(x)) #e^x\n",
    "print(2**x) # 2^x\n",
    "print(10**x) # 10^x"
   ]
  },
  {
   "cell_type": "code",
   "execution_count": 21,
   "metadata": {},
   "outputs": [
    {
     "name": "stdout",
     "output_type": "stream",
     "text": [
      "[   1   10  100 1000]\n",
      "[0.         2.30258509 4.60517019 6.90775528]\n",
      "[0.         3.32192809 6.64385619 9.96578428]\n",
      "[0. 1. 2. 3.]\n"
     ]
    }
   ],
   "source": [
    "# 对数函数\n",
    "d = np.array([1,10,100,1000])\n",
    "\n",
    "print(d)\n",
    "print(np.log(d)) # ln(d)\n",
    "print(np.log(d)/ np.log(2)) #log2(d)\n",
    "print(np.log(d)/ np.log(10)) #log10(d)"
   ]
  },
  {
   "cell_type": "code",
   "execution_count": 22,
   "metadata": {},
   "outputs": [],
   "source": [
    "# 6.3 聚合参数\n",
    "# 聚合很有用，这里用矩阵演示。向量与之一致，但是没有axis参数\n",
    "# 以下在注释中介绍了6个最重要的聚合函数，其用法一致，仅演示其中3个\n",
    "import numpy as np"
   ]
  },
  {
   "cell_type": "code",
   "execution_count": null,
   "metadata": {},
   "outputs": [],
   "source": [
    "# 最大值函数\n",
    "np.max()\n",
    "\n",
    "# 最小值函数\n",
    "np.min()"
   ]
  },
  {
   "cell_type": "code",
   "execution_count": 24,
   "metadata": {},
   "outputs": [
    {
     "name": "stdout",
     "output_type": "stream",
     "text": [
      "[[0.7998857  0.00103189 0.27350907]\n",
      " [0.5444816  0.23463301 0.88775956]]\n",
      "[0.7998857  0.23463301 0.88775956]\n",
      "[0.00103189 0.23463301]\n",
      "0.8877595619227517\n",
      "0.0010318852240162046\n"
     ]
    }
   ],
   "source": [
    "ar = np.random.random((2,3))\n",
    "print(ar)\n",
    "\n",
    "print(np.max(ar,axis=0)) # 按维度一求最大值\n",
    "print(np.min(ar,axis=1)) # 按维度二求最大值\n",
    "print(np.max(ar)) #整体求最大值\n",
    "print(np.min(ar)) #整体求最小值"
   ]
  },
  {
   "cell_type": "code",
   "execution_count": null,
   "metadata": {},
   "outputs": [],
   "source": [
    "# 求和函数\n",
    "np.sum()\n",
    "\n",
    "# 求积函数\n",
    "np.prod()"
   ]
  },
  {
   "cell_type": "code",
   "execution_count": 26,
   "metadata": {},
   "outputs": [
    {
     "name": "stdout",
     "output_type": "stream",
     "text": [
      "[[0 1 2 3 4]\n",
      " [5 6 7 8 9]]\n",
      "[ 5  7  9 11 13]\n",
      "[10 35]\n",
      "0\n",
      "45\n"
     ]
    }
   ],
   "source": [
    "ari = np.arange(10).reshape(2,5)\n",
    "\n",
    "print(ari)\n",
    "print(np.sum(ari,axis=0)) # 按维度一求合\n",
    "print(np.sum(ari,axis=1)) # 按维度二求合\n",
    "print(np.prod(ari)) # 整体乘积\n",
    "print(np.sum(ari)) # 整体求合"
   ]
  },
  {
   "cell_type": "code",
   "execution_count": null,
   "metadata": {},
   "outputs": [],
   "source": [
    "# 均值函数\n",
    "np.mean()\n",
    "\n",
    "# 标准差函数\n",
    "np.std()"
   ]
  },
  {
   "cell_type": "code",
   "execution_count": 27,
   "metadata": {},
   "outputs": [
    {
     "name": "stdout",
     "output_type": "stream",
     "text": [
      "\n",
      "[2.5 3.5 4.5 5.5 6.5]\n",
      "[2. 7.]\n",
      "4.5\n"
     ]
    }
   ],
   "source": [
    "arr = np.arange(10).reshape(2,5)\n",
    "\n",
    "print()\n",
    "print(np.mean(arr,axis=0)) # 按维度一求平均值\n",
    "print(np.mean(arr,axis=1)) # 按维度二求平均值\n",
    "print(np.mean(arr)) #整体求平均\n",
    " "
   ]
  },
  {
   "cell_type": "code",
   "execution_count": null,
   "metadata": {},
   "outputs": [],
   "source": [
    "# 当axis=0时，最终结果与每一行的元素个数一致\n",
    "# 当axis=1时，最终结果与每一行的元素个数一致\n",
    "\n",
    "# 考虑到大型数据组难免有缺失值，以上聚合函数碰到缺失值时会报错，\n",
    "# 因此，出现了聚合函数的安全版本，即计算时忽略缺失值：\n",
    "np.nansum()\n",
    "np.nanprod()\n",
    "np.nanmean()\n",
    "np.nanstd()\n",
    "np.nanmax()\n",
    "np.nanmin()"
   ]
  }
 ],
 "metadata": {
  "kernelspec": {
   "display_name": "base",
   "language": "python",
   "name": "python3"
  },
  "language_info": {
   "codemirror_mode": {
    "name": "ipython",
    "version": 3
   },
   "file_extension": ".py",
   "mimetype": "text/x-python",
   "name": "python",
   "nbconvert_exporter": "python",
   "pygments_lexer": "ipython3",
   "version": "3.12.4"
  }
 },
 "nbformat": 4,
 "nbformat_minor": 2
}
